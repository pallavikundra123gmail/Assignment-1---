{
  "cells": [
    {
      "cell_type": "code",
      "execution_count": null,
      "metadata": {
        "id": "LQG1hugOq7NQ"
      },
      "outputs": [],
      "source": [
        "Python basics theory questions:-"
      ]
    },
    {
      "cell_type": "code",
      "execution_count": null,
      "metadata": {
        "id": "Dfm0rvuexa04"
      },
      "outputs": [],
      "source": [
        "# 1.What is Python, and why is it popular ?\n",
        "\n",
        "Ans:- Python is general programming language known for its simplicities to access ,and verslitiy popular because:-\n",
        "      1. Easy to read the syntax.\n",
        "      2. Wide libraries i.e. NumPy, pandas etc.\n",
        "      3. Strong community support.\n",
        "      4. Versatile because use in web development, data science etc."
      ]
    },
    {
      "cell_type": "code",
      "execution_count": null,
      "metadata": {
        "id": "cuqfPWWfBVEJ"
      },
      "outputs": [],
      "source": [
        "#2. What is an interpreter in Python?\n",
        "\n",
        "Ans:- An interpreter in Python is a program that executes Python code line-by-line, converting it into machine-readable code."
      ]
    },
    {
      "cell_type": "code",
      "execution_count": null,
      "metadata": {
        "id": "ayFPV8OLBlHV"
      },
      "outputs": [],
      "source": [
        "#3. What are pre-defined keywords in Python?\n",
        "\n",
        "Ans:- Pre-defined keywords are per-defined words that have special identity/meaning and functions in Python.\n",
        "      example >> print(),if, else , elif, True, False ,while ,etc..."
      ]
    },
    {
      "cell_type": "code",
      "execution_count": null,
      "metadata": {
        "id": "F8n_OpFQB4Qm"
      },
      "outputs": [],
      "source": [
        "#4. Can keywords be used as variable names?\n",
        "\n",
        "Ans:- No, keywords cannot use as name because it has reserved by python for specific function."
      ]
    },
    {
      "cell_type": "code",
      "execution_count": null,
      "metadata": {
        "id": "MSnCNJHEDiKS"
      },
      "outputs": [],
      "source": [
        "#5. What is mutability in Python?\n",
        "\n",
        "Ans:- Mutability :-Whose State or value can be changed after they are created.(objects/Container)."
      ]
    },
    {
      "cell_type": "code",
      "execution_count": null,
      "metadata": {
        "id": "bKNnCndzEIFg"
      },
      "outputs": [],
      "source": [
        "#6. Why are lists mutable, but tuples are immutable?\n",
        "\n",
        "Ans:- list Mutable function are made with which is flexible with data modification.\n",
        "      Tuples function are made for the data protection and optimization performance."
      ]
    },
    {
      "cell_type": "code",
      "execution_count": null,
      "metadata": {
        "id": "1EFaqzdUEpJ3"
      },
      "outputs": [],
      "source": [
        "#7. What is the difference between == and is operators in Python?\n",
        "\n",
        "Ans:- (==) Refers to two variables are equal or same value.\n",
        "      (is) Operator refers to two variable in same memory."
      ]
    },
    {
      "cell_type": "code",
      "execution_count": null,
      "metadata": {
        "id": "3664MO4tRzBE"
      },
      "outputs": [],
      "source": [
        "#8. What are logical operators in Python?\n",
        "\n",
        "Ans: logical operators are use to combine conditional statement\n",
        "  1. and :- Returns True only if both of conditions are true.\n",
        "  2. or  :- Returns True if at least one of the operands is True;\n",
        "  3. not :- Reverse the truth Value of its Operand."
      ]
    },
    {
      "cell_type": "code",
      "execution_count": null,
      "metadata": {
        "id": "3ZEVWiXSS-ZM"
      },
      "outputs": [],
      "source": [
        "#9. What is type casting in Python?\n",
        "\n",
        "Ans:- Type casting is a process in which we change the data type:-\n",
        " example :- s= \"123\" >> this is strig\n",
        "            i = int(s) >>this is integer"
      ]
    },
    {
      "cell_type": "code",
      "execution_count": null,
      "metadata": {
        "id": "hWQrHTquUTWH"
      },
      "outputs": [],
      "source": [
        "#10. What is the difference between implicit and explicit type casting?\n",
        "\n",
        "Ans:- implicit type casting:- in which data type change automatically:\n",
        "        example :-a=5(integer) , b=3.4(float no.)\n",
        "        adding a and b :- c = a+b >> c=8.4 >> now it will automatically change to float from integer\n",
        "\n",
        "      explicit :- explicit type casting is a process in which we change the data type manually\n",
        "      example :- s= \"123\" >> this is strig\n",
        "      i = int(s) >> now this is integer >> we change the data type by using int()\n"
      ]
    },
    {
      "cell_type": "code",
      "execution_count": null,
      "metadata": {
        "id": "Tsum-0EJUlpD"
      },
      "outputs": [],
      "source": [
        "#11. What is the purpose of conditional statements in Python?\n",
        "\n",
        "Ans:- Condition statement are useful when we have to many statement and execute only some conditions so it will control the statement flow\n",
        "      examples :- if , else , elif.\n"
      ]
    },
    {
      "cell_type": "code",
      "execution_count": null,
      "metadata": {
        "id": "2g2Pc_0cVPq0"
      },
      "outputs": [],
      "source": [
        "#12. How does the elif statement work?\n",
        "\n",
        "Ans:- elif condition is able to check many conditions which is given at a time one by one\n",
        "      example :-a=28 , b=100,\n",
        "      if a ==28 and b < 100:\n",
        "      print(\"this is valid statement but inside elif condition\")"
      ]
    },
    {
      "cell_type": "code",
      "execution_count": null,
      "metadata": {
        "id": "usn2esj8WI5a"
      },
      "outputs": [],
      "source": [
        "#13. What is the difference between for and while loops?\n",
        "\n",
        "Ans:- For loop :-Is used for iterating over a sequence (.i.e. string, list etc).\n",
        "     example :-for i in range(3):\n",
        "     print(\"i =\",i)\n",
        "\n",
        "      while loop :- while loop is used to repeat the block of code until it will true."
      ]
    },
    {
      "cell_type": "code",
      "execution_count": null,
      "metadata": {
        "id": "WXzdz0hEXM9h"
      },
      "outputs": [],
      "source": [
        "#14. Describe a scenario where a while loop is more suitable than a for loop.\n",
        "\n",
        "Ans:-A while loop is more suitable when the number of iterations is unknown or depends on a condition.\n",
        "     example:-initial_speed = 0\n",
        "              final_speed = 10\n",
        "              while initial_speed<final_speed:\n",
        "              print(initial_speed)\n",
        "              initial_speed=initial_speed+2\n",
        "0\n",
        "2\n",
        "4\n",
        "6\n",
        "8"
      ]
    },
    {
      "cell_type": "markdown",
      "metadata": {
        "id": "MRTI9um0XV8z"
      },
      "source": [
        "Practical questions\n"
      ]
    },
    {
      "cell_type": "code",
      "execution_count": null,
      "metadata": {
        "id": "mPqJYhd7XXuD"
      },
      "outputs": [],
      "source": [
        "#1.Write a Python program to print \"Hello, World!\n",
        "\n",
        "   print(\"hello , world\")\n",
        "   hello , world\n"
      ]
    },
    {
      "cell_type": "code",
      "execution_count": null,
      "metadata": {
        "colab": {
          "base_uri": "https://localhost:8080/",
          "height": 52
        },
        "id": "6DWXBDq16A3T",
        "outputId": "3840878b-2de1-488d-fea2-c0fd03355e34"
      },
      "outputs": [
        {
          "name": "stdout",
          "output_type": "stream",
          "text": [
            "name = pallavi age = 31\n"
          ]
        },
        {
          "data": {
            "application/vnd.google.colaboratory.intrinsic+json": {
              "type": "string"
            },
            "text/plain": [
              "'pallavi'"
            ]
          },
          "execution_count": 7,
          "metadata": {},
          "output_type": "execute_result"
        }
      ],
      "source": [
        "#2. Write a Python program that displays your name and age.\n",
        "\n",
        "name=\"pallavi\"\n",
        "age=31\n",
        "print(\"name =\" ,name,\"age =\" ,age)\n",
        "name\n"
      ]
    },
    {
      "cell_type": "code",
      "execution_count": null,
      "metadata": {
        "colab": {
          "base_uri": "https://localhost:8080/"
        },
        "id": "zveGwgT6-Swt",
        "outputId": "f4074ae1-29a8-477c-ed38-e87ebeafe9ac"
      },
      "outputs": [
        {
          "name": "stdout",
          "output_type": "stream",
          "text": [
            "\n",
            "Here is a list of the Python keywords.  Enter any keyword to get more help.\n",
            "\n",
            "False               class               from                or\n",
            "None                continue            global              pass\n",
            "True                def                 if                  raise\n",
            "and                 del                 import              return\n",
            "as                  elif                in                  try\n",
            "assert              else                is                  while\n",
            "async               except              lambda              with\n",
            "await               finally             nonlocal            yield\n",
            "break               for                 not                 \n",
            "\n"
          ]
        }
      ],
      "source": [
        "#3.Write code to print all the pre-defined keywords in Python using the keyword library\n",
        "import keyword\n",
        "\n",
        "help('keywords')"
      ]
    },
    {
      "cell_type": "code",
      "execution_count": null,
      "metadata": {
        "colab": {
          "base_uri": "https://localhost:8080/",
          "height": 106
        },
        "id": "OMAMZS9M_r15",
        "outputId": "d380f97f-91c6-4540-c419-5a6cd605e453"
      },
      "outputs": [
        {
          "ename": "SyntaxError",
          "evalue": "invalid syntax (<ipython-input-15-7d9bc6a293ed>, line 6)",
          "output_type": "error",
          "traceback": [
            "\u001b[0;36m  File \u001b[0;32m\"<ipython-input-15-7d9bc6a293ed>\"\u001b[0;36m, line \u001b[0;32m6\u001b[0m\n\u001b[0;31m    else:\u001b[0m\n\u001b[0m    ^\u001b[0m\n\u001b[0;31mSyntaxError\u001b[0m\u001b[0;31m:\u001b[0m invalid syntax\n"
          ]
        }
      ],
      "source": [
        "#4.Write a program that checks if a given word is a Python keyword\n",
        "\n",
        "word= input(\"enter a word\")\n",
        "if word in keywords.kwlist:\n",
        "  print(\"word is a keyword\")\n",
        "  else:\n",
        "    print(\"word is not a keyword\")"
      ]
    },
    {
      "cell_type": "code",
      "execution_count": null,
      "metadata": {
        "colab": {
          "base_uri": "https://localhost:8080/"
        },
        "id": "0Z5tqVt7AQng",
        "outputId": "17dd4b44-2b24-4e1f-d560-8a96b8500993"
      },
      "outputs": [
        {
          "name": "stdout",
          "output_type": "stream",
          "text": [
            "l = [1, 2, 'ajay', 'pallavi', 'pwskills', (3+10j)]\n"
          ]
        }
      ],
      "source": [
        "#5. Create a list and tuple in Python, and demonstrate how attempting to change an element works differently for each\n",
        "l=[1,2,3.4,\"pallavi\",\"pwskills\",3+10j]\n",
        "t=(5,6.7,8,\"ajay\",\"pwskills\")\n",
        "\n",
        "#list are mutable\n",
        "l[2] = \"ajay\"\n",
        "print(\"l =\",l)"
      ]
    },
    {
      "cell_type": "code",
      "execution_count": null,
      "metadata": {
        "colab": {
          "base_uri": "https://localhost:8080/",
          "height": 159
        },
        "id": "-DREbMYQAq09",
        "outputId": "52a0c918-6298-4d7d-e9c4-a801f7c88cb5"
      },
      "outputs": [
        {
          "ename": "TypeError",
          "evalue": "'tuple' object does not support item assignment",
          "output_type": "error",
          "traceback": [
            "\u001b[0;31m---------------------------------------------------------------------------\u001b[0m",
            "\u001b[0;31mTypeError\u001b[0m                                 Traceback (most recent call last)",
            "\u001b[0;32m<ipython-input-17-b06ad7a9a1a1>\u001b[0m in \u001b[0;36m<cell line: 0>\u001b[0;34m()\u001b[0m\n\u001b[1;32m      1\u001b[0m \u001b[0;31m# tuples are immutable >> so it will gives you an error\u001b[0m\u001b[0;34m\u001b[0m\u001b[0;34m\u001b[0m\u001b[0m\n\u001b[0;32m----> 2\u001b[0;31m \u001b[0mt\u001b[0m\u001b[0;34m[\u001b[0m\u001b[0;36m2\u001b[0m\u001b[0;34m]\u001b[0m\u001b[0;34m=\u001b[0m\u001b[0;36m5\u001b[0m\u001b[0;34m\u001b[0m\u001b[0;34m\u001b[0m\u001b[0m\n\u001b[0m",
            "\u001b[0;31mTypeError\u001b[0m: 'tuple' object does not support item assignment"
          ]
        }
      ],
      "source": [
        "# tuples are immutable >> so it will gives you an error\n",
        "t[2]=5"
      ]
    },
    {
      "cell_type": "code",
      "execution_count": null,
      "metadata": {
        "colab": {
          "base_uri": "https://localhost:8080/",
          "height": 193
        },
        "id": "s2YN1YkBAwRU",
        "outputId": "12c3ce1d-66a3-44ba-d6e1-94fc6d70104b"
      },
      "outputs": [
        {
          "name": "stdout",
          "output_type": "stream",
          "text": [
            "l = [1, 2, 'ajay', 'pallavi', 'pwskills', (3+10j)]\n"
          ]
        },
        {
          "ename": "TypeError",
          "evalue": "'tuple' object does not support item assignment",
          "output_type": "error",
          "traceback": [
            "\u001b[0;31m---------------------------------------------------------------------------\u001b[0m",
            "\u001b[0;31mTypeError\u001b[0m                                 Traceback (most recent call last)",
            "\u001b[0;32m<ipython-input-18-7047ffffb48e>\u001b[0m in \u001b[0;36m<cell line: 0>\u001b[0;34m()\u001b[0m\n\u001b[1;32m      8\u001b[0m \u001b[0;34m\u001b[0m\u001b[0m\n\u001b[1;32m      9\u001b[0m \u001b[0;31m# tuples are immutable >> so it will gives you an error\u001b[0m\u001b[0;34m\u001b[0m\u001b[0;34m\u001b[0m\u001b[0m\n\u001b[0;32m---> 10\u001b[0;31m \u001b[0mt\u001b[0m\u001b[0;34m[\u001b[0m\u001b[0;36m2\u001b[0m\u001b[0;34m]\u001b[0m\u001b[0;34m=\u001b[0m\u001b[0;36m5\u001b[0m\u001b[0;34m\u001b[0m\u001b[0;34m\u001b[0m\u001b[0m\n\u001b[0m",
            "\u001b[0;31mTypeError\u001b[0m: 'tuple' object does not support item assignment"
          ]
        }
      ],
      "source": [
        "#6. Write a function to demonstrate the behavior of mutable and immutable arguments\n",
        "\n",
        "#ans.>>#list are mutable\n",
        "l=[1,2,3.4,\"pallavi\",\"pwskills\",3+10j]\n",
        "t=(5,6.7,8,\"ajay\",\"pwskills\")\n",
        "l[2] = \"ajay\"\n",
        "print(\"l =\",l)\n",
        "\n",
        "# tuples are immutable >> so it will gives you an error\n",
        "t[2]=5"
      ]
    },
    {
      "cell_type": "code",
      "execution_count": null,
      "metadata": {
        "id": "QRnAzjyn5yro"
      },
      "outputs": [],
      "source": [
        "#7.Write a function to demonstrate the behavior of mutable and immutable arguments\n",
        "\n",
        "#ans.>> same as a question no. 6"
      ]
    },
    {
      "cell_type": "code",
      "execution_count": null,
      "metadata": {
        "colab": {
          "base_uri": "https://localhost:8080/"
        },
        "id": "3Y_IBjzu8lgk",
        "outputId": "f7d9726f-72e4-4be0-fc07-1a1671957444"
      },
      "outputs": [
        {
          "data": {
            "text/plain": [
              "True"
            ]
          },
          "execution_count": 11,
          "metadata": {},
          "output_type": "execute_result"
        }
      ],
      "source": [
        "#8.Write a program to demonstrate the use of logical operators\n",
        "\n",
        "a=5\n",
        "b=10\n",
        "\n",
        "#1st\n",
        "a<8 and b<12"
      ]
    },
    {
      "cell_type": "code",
      "execution_count": null,
      "metadata": {
        "colab": {
          "base_uri": "https://localhost:8080/"
        },
        "id": "RVX3LdtH_B6z",
        "outputId": "68cb10c4-2804-4cce-845a-45e4bc2411fe"
      },
      "outputs": [
        {
          "data": {
            "text/plain": [
              "False"
            ]
          },
          "execution_count": 12,
          "metadata": {},
          "output_type": "execute_result"
        }
      ],
      "source": [
        "a>10 or b<5"
      ]
    },
    {
      "cell_type": "code",
      "execution_count": null,
      "metadata": {
        "colab": {
          "base_uri": "https://localhost:8080/"
        },
        "id": "L3Am2Hhp_JJj",
        "outputId": "6c5369c7-c1b8-4aeb-84d1-ab87173072b0"
      },
      "outputs": [
        {
          "data": {
            "text/plain": [
              "True"
            ]
          },
          "execution_count": 13,
          "metadata": {},
          "output_type": "execute_result"
        }
      ],
      "source": [
        "not a==4"
      ]
    },
    {
      "cell_type": "code",
      "execution_count": null,
      "metadata": {
        "colab": {
          "base_uri": "https://localhost:8080/"
        },
        "id": "5VEiln_nIMfN",
        "outputId": "a1c8f0f4-df86-45ad-b823-017a5c004172"
      },
      "outputs": [
        {
          "data": {
            "text/plain": [
              "int"
            ]
          },
          "execution_count": 29,
          "metadata": {},
          "output_type": "execute_result"
        }
      ],
      "source": [
        "#9. Write a Python program to convert user input from string to integer, float, and boolean types\n",
        "user_input = input(\"Enter a value: \")\n",
        "\n",
        "a=121\n",
        "type(a)"
      ]
    },
    {
      "cell_type": "code",
      "execution_count": null,
      "metadata": {
        "colab": {
          "base_uri": "https://localhost:8080/",
          "height": 35
        },
        "id": "QcMI8W8WIdib",
        "outputId": "a6bd6cdd-0c41-4edf-f4e7-1a40afc56376"
      },
      "outputs": [
        {
          "data": {
            "application/vnd.google.colaboratory.intrinsic+json": {
              "type": "string"
            },
            "text/plain": [
              "'121'"
            ]
          },
          "execution_count": 30,
          "metadata": {},
          "output_type": "execute_result"
        }
      ],
      "source": [
        "str(a)"
      ]
    },
    {
      "cell_type": "code",
      "execution_count": null,
      "metadata": {
        "colab": {
          "base_uri": "https://localhost:8080/"
        },
        "id": "p6l6hvQWIiy5",
        "outputId": "f41b3657-0925-482f-988a-0926452a8030"
      },
      "outputs": [
        {
          "data": {
            "text/plain": [
              "False"
            ]
          },
          "execution_count": 31,
          "metadata": {},
          "output_type": "execute_result"
        }
      ],
      "source": [
        "bool(0)"
      ]
    },
    {
      "cell_type": "code",
      "execution_count": null,
      "metadata": {
        "colab": {
          "base_uri": "https://localhost:8080/"
        },
        "id": "gAu7eL2ZIp9J",
        "outputId": "426ae51f-e1cc-4a5d-eb66-9f0da8bcc5d8"
      },
      "outputs": [
        {
          "data": {
            "text/plain": [
              "True"
            ]
          },
          "execution_count": 32,
          "metadata": {},
          "output_type": "execute_result"
        }
      ],
      "source": [
        "bool(1)"
      ]
    },
    {
      "cell_type": "code",
      "execution_count": null,
      "metadata": {
        "colab": {
          "base_uri": "https://localhost:8080/"
        },
        "id": "KAqB1YzIBjzc",
        "outputId": "e877adbf-0a93-45e4-c433-cf5423837e0c"
      },
      "outputs": [
        {
          "name": "stdout",
          "output_type": "stream",
          "text": [
            "[1, 2, 3, 34]\n"
          ]
        }
      ],
      "source": [
        "#10. Write code to demonstrate type casting with list elements\n",
        "list1 = [\"1\",\"2\",\"3\",\"34\"]\n",
        "list2=[]\n",
        "for i in list1:\n",
        "    intg = int(i)\n",
        "    list2.append(intg)\n",
        "print(list2)"
      ]
    },
    {
      "cell_type": "code",
      "execution_count": null,
      "metadata": {
        "colab": {
          "base_uri": "https://localhost:8080/"
        },
        "id": "Mc6H5wYVI_6j",
        "outputId": "8b849228-0cfa-4e3e-f8c3-43bfbd00c55f"
      },
      "outputs": [
        {
          "name": "stdout",
          "output_type": "stream",
          "text": [
            "0\n",
            "1\n",
            "2\n",
            "3\n",
            "4\n",
            "5\n",
            "6\n",
            "7\n",
            "8\n",
            "9\n"
          ]
        }
      ],
      "source": [
        "#12. Write a for loop to print numbers from 1 to 10\n",
        "for i in range(0,10):\n",
        "    print(i)"
      ]
    },
    {
      "cell_type": "code",
      "execution_count": null,
      "metadata": {
        "colab": {
          "base_uri": "https://localhost:8080/"
        },
        "id": "ILzBx6xGDFGy",
        "outputId": "05788088-247c-48e2-c786-b6a1b0635c84"
      },
      "outputs": [
        {
          "name": "stdout",
          "output_type": "stream",
          "text": [
            "600\n"
          ]
        }
      ],
      "source": [
        "#13. Write a Python program to find the sum of all even numbers between 1 and 50\n",
        "sum_even = 0\n",
        "for i in range(50):\n",
        "    if i%2==0:\n",
        "        sum_even=(sum_even+i)\n",
        "print(sum_even)"
      ]
    },
    {
      "cell_type": "code",
      "execution_count": null,
      "metadata": {
        "colab": {
          "base_uri": "https://localhost:8080/"
        },
        "id": "3ZtmKew6EKs3",
        "outputId": "cfb204cb-5f3c-49f8-93af-b0ed4b4c84d3"
      },
      "outputs": [
        {
          "name": "stdout",
          "output_type": "stream",
          "text": [
            "revrse_string : ivallap\n"
          ]
        }
      ],
      "source": [
        "#14. Write a program to reverse a string using a while loop\n",
        "\n",
        "s= \"pallavi\"\n",
        "rs=\"\"\n",
        "index=len(s)-1\n",
        "while index>= 0:\n",
        "    rs+=s[index]\n",
        "    index -=1\n",
        "print(\"revrse_string :\",rs)"
      ]
    },
    {
      "cell_type": "code",
      "execution_count": null,
      "metadata": {
        "id": "NbEbzl6sKTrI"
      },
      "outputs": [],
      "source": [
        "#15. Write a Python program to calculate the factorial of a number provided by the user using a while loop.\n",
        "\n",
        "#ans.>>\n",
        "integer = int(input(\"enter a number\"))\n",
        "i = 1\n",
        "factorial =1\n",
        "\n",
        "while i<=integer:\n",
        "    factorial = (i*factorial)\n",
        "    i=i+1\n",
        "print(\"factorial of\" ,integer,\"is\", factorial)\n",
        "print\n"
      ]
    },
    {
      "cell_type": "code",
      "execution_count": null,
      "metadata": {
        "id": "FNMQhOKIqd2p"
      },
      "outputs": [],
      "source": []
    }
  ],
  "metadata": {
    "colab": {
      "provenance": []
    },
    "kernelspec": {
      "display_name": "Python 3",
      "name": "python3"
    },
    "language_info": {
      "name": "python"
    }
  },
  "nbformat": 4,
  "nbformat_minor": 0
}
